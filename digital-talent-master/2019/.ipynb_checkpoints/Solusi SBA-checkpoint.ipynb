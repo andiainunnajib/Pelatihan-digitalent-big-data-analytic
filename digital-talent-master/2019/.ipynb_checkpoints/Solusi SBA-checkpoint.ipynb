{
 "cells": [
  {
   "cell_type": "markdown",
   "metadata": {},
   "source": [
    "# Soal 1 "
   ]
  },
  {
   "cell_type": "code",
   "execution_count": 3,
   "metadata": {},
   "outputs": [
    {
     "name": "stdout",
     "output_type": "stream",
     "text": [
      "3\n",
      "86\n"
     ]
    }
   ],
   "source": [
    "x = int(input())\n",
    "y = 3 * (x ** 3) - 2 * (x ** 2) + 9 * x - 4\n",
    "print(y)"
   ]
  },
  {
   "cell_type": "markdown",
   "metadata": {},
   "source": [
    "# Soal 3"
   ]
  },
  {
   "cell_type": "code",
   "execution_count": 7,
   "metadata": {},
   "outputs": [
    {
     "name": "stdout",
     "output_type": "stream",
     "text": [
      "5000\n",
      "1000\n",
      "0.2\n",
      "0.4\n",
      "Pada Tahun  2020  Populasi Talent  1400.0  Populasi Digital  6000.0\n",
      "Pada Tahun  2021  Populasi Talent  1960.0  Populasi Digital  7200.0\n",
      "Pada Tahun  2022  Populasi Talent  2744.0  Populasi Digital  8640.0\n",
      "Pada Tahun  2023  Populasi Talent  3841.6000000000004  Populasi Digital  10368.0\n",
      "Pada Tahun  2024  Populasi Talent  5378.240000000001  Populasi Digital  12441.6\n",
      "Pada Tahun  2025  Populasi Talent  7529.536000000001  Populasi Digital  14929.92\n",
      "Pada Tahun  2026  Populasi Talent  10541.350400000001  Populasi Digital  17915.904000000002\n",
      "Pada Tahun  2027  Populasi Talent  14757.890560000002  Populasi Digital  21499.084800000004\n",
      "Pada Tahun  2028  Populasi Talent  20661.046784000002  Populasi Digital  25798.901760000004\n",
      "Pada Tahun  2029  Populasi Talent  28925.465497600002  Populasi Digital  30958.682112000006\n",
      "Pada Tahun  2030  Populasi Talent  40495.65169664  Populasi Digital  37150.41853440001\n"
     ]
    }
   ],
   "source": [
    "populasi_digital = int(input())\n",
    "populasi_talent = int(input())\n",
    "rate_digital = float(input())\n",
    "rate_talent = float(input())\n",
    "\n",
    "tahun = 2019\n",
    "\n",
    "while populasi_talent < populasi_digital:\n",
    "    populasi_talent += populasi_talent * rate_talent\n",
    "    populasi_digital += + populasi_digital * rate_digital\n",
    "    tahun += 1\n",
    "    \n",
    "    print(\"Pada Tahun \",tahun,\" Populasi Talent \",populasi_talent,\n",
    "      \" Populasi Digital \",populasi_digital)\n",
    "\n"
   ]
  },
  {
   "cell_type": "markdown",
   "metadata": {},
   "source": [
    "# Soal 4"
   ]
  },
  {
   "cell_type": "code",
   "execution_count": 8,
   "metadata": {},
   "outputs": [
    {
     "name": "stdout",
     "output_type": "stream",
     "text": [
      "40\n",
      "50000\n",
      "Pendapatan Budi selama libur musim panas sebelum melakukan pembayaran pajak  10000000\n",
      "Pendapatan Budi selama libur musim panas setelah melakukan pembayaran pajak  8600000.0\n",
      "Jumlah uang yang akan Budi habiskan untuk membeli pakaian dan aksesoris  860000.0\n",
      "Jumlah uang yang akan Budi habiskan untuk membeli alat tulis  86000.0\n",
      "Jumlah uang yang akan Budi sedekahkan  1913500.0\n",
      "Jumlah uang yang akan diterima anak yatim  573900.0\n",
      "Jumlah uang yang akan diterima kaum dhuafa  1339600.0\n"
     ]
    }
   ],
   "source": [
    "jam_per_minggu = int(input())\n",
    "gaji_per_jam = int(input())\n",
    "\n",
    "# 5 minggu\n",
    "total_jam = jam_per_minggu * 5 \n",
    "\n",
    "# total pendapatan\n",
    "total_pendapatan = total_jam * gaji_per_jam\n",
    "\n",
    "print(\"Pendapatan Budi selama libur musim panas sebelum melakukan pembayaran pajak \", total_pendapatan)\n",
    "\n",
    "pajak = 0.14 * total_pendapatan\n",
    "total_pendapatan_setelah_pajak = total_pendapatan - pajak\n",
    "print(\"Pendapatan Budi selama libur musim panas setelah melakukan pembayaran pajak \", total_pendapatan_setelah_pajak)\n",
    "\n",
    "pakaian_acc = 0.1 * total_pendapatan_setelah_pajak\n",
    "alat_tulis = 0.01 * total_pendapatan_setelah_pajak\n",
    "\n",
    "print(\"Jumlah uang yang akan Budi habiskan untuk membeli pakaian dan aksesoris \", pakaian_acc)\n",
    "print(\"Jumlah uang yang akan Budi habiskan untuk membeli alat tulis \", alat_tulis)\n",
    "\n",
    "total_pendapatan_setelah_beli = total_pendapatan_setelah_pajak - pakaian_acc - alat_tulis\n",
    "sedekah = 0.25 * total_pendapatan_setelah_beli\n",
    "\n",
    "print(\"Jumlah uang yang akan Budi sedekahkan \", sedekah)\n",
    "\n",
    "yatim = sedekah // 1000 * 300\n",
    "dhuafa = sedekah - yatim\n",
    "\n",
    "print(\"Jumlah uang yang akan diterima anak yatim \",yatim)\n",
    "print(\"Jumlah uang yang akan diterima kaum dhuafa \",dhuafa)"
   ]
  },
  {
   "cell_type": "markdown",
   "metadata": {},
   "source": [
    "# Soal 5"
   ]
  },
  {
   "cell_type": "code",
   "execution_count": 17,
   "metadata": {},
   "outputs": [
    {
     "name": "stdout",
     "output_type": "stream",
     "text": [
      "Jenis Kendaraan = motor\n",
      "Lama Parkir = 25\n",
      "Biaya Parkir =  149000\n"
     ]
    }
   ],
   "source": [
    "jenis_kendaraan = input(\"Jenis Kendaraan = \")\n",
    "jam_parkir = int(input(\"Lama Parkir = \"))\n",
    "biaya_tiap_jam = 2000 if jenis_kendaraan == 'motor' else 4000\n",
    "over_jam = jam_parkir // 24\n",
    "\n",
    "biaya = 3000\n",
    "if jam_parkir>=2:   \n",
    "    biaya_normal = (jam_parkir - 2) * biaya_tiap_jam + 3000\n",
    "    biaya_denda = over_jam * 100000\n",
    "\n",
    "    biaya = biaya_normal + biaya_denda\n",
    "\n",
    "print(\"Biaya Parkir = \", biaya)\n",
    "    "
   ]
  },
  {
   "cell_type": "code",
   "execution_count": null,
   "metadata": {},
   "outputs": [],
   "source": []
  }
 ],
 "metadata": {
  "kernelspec": {
   "display_name": "Python 3",
   "language": "python",
   "name": "python3"
  },
  "language_info": {
   "codemirror_mode": {
    "name": "ipython",
    "version": 3
   },
   "file_extension": ".py",
   "mimetype": "text/x-python",
   "name": "python",
   "nbconvert_exporter": "python",
   "pygments_lexer": "ipython3",
   "version": "3.6.9"
  }
 },
 "nbformat": 4,
 "nbformat_minor": 2
}
