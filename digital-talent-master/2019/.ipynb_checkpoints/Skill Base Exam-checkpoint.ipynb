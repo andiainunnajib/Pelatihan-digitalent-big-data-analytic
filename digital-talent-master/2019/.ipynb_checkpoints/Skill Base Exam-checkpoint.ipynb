{
 "cells": [
  {
   "cell_type": "markdown",
   "metadata": {},
   "source": [
    "## Soal 1\n",
    "Buatlah sebuah program untuk melakukan <b>konversi mata uang</b>. Input adalah angka dalam rupiah, dan keluaran adalah angka dalam dolar, jika diketahui `1 dolar adalah 14.591 rupiah`.\n",
    "\n",
    "## Soal 2\n",
    "Buatlah sebuah program untuk menentukan <b>berat badan ideal</b> melalui formula `BMI = berat (kg) / tinggi (m) * tinggi(m)`. Jika BMI yang dihasilkan antara 18,5 sampai 22,9 maka berat badan dinyatakan ideal. Jika lebih dari 22,9 maka overweight, dan jika kurang dari 18,5 maka underweight. Input program berupa `berat_badan` dan `tinggi_badan`, dan output berupa `normal` atau `underweight` atau `overweight`.\n",
    "\n",
    "## Soal 3\n",
    "Buatlah sebuah <b>list</b> kosong bernama `sheila`. Kemudian buatlah kode untuk:\n",
    "- Memasukkan `eros` dan `duta` ke dalam list dengan sintaks append\n",
    "- Meminta user untuk memasukkan `adam`, `anton` dan `sakti` (dengan sintaks `input`) ke dalam list dengan sintaks perulangan `for`\n",
    "- Menghapus `sakti` dan `anton` dari list\n",
    "- Menambahkan `brian` dengan sintaks `insert` pada posisi terakhir dari list\n",
    "- Menampilkan seluruh elemen list dengan sintaks perulangan `while`\n",
    "\n",
    "## Soal 4\n",
    "Buatlah sebuah fungsi bernama `hapusVokal(kalimat)`. Fungsi tersebut menerima parameter sebuah variabel bernama `kalimat` yang bertipe `string`, dan akan mengembalikan kalimat yang sudah hilang huruf vokal nya (A,I,U,E,O).  \n",
    "\n",
    "## Soal 5\n",
    "Rancanglah sebuah <b>dictionary</b> untuk menampung biodata seorang peserta coding teacher academy, Kemudian lakukan hal berikut:\n",
    "-\tbuatlah kode untuk menampilkan `key` dari dictionary tersebut\n",
    "-\tBuatlah kode untuk menambahkan `key` berupa `nilai_kuis`\n",
    "-\tIsi `nilai_kuis` tersebut dengan 5 buah nilai yang tersimpan dalam `list`\n",
    "-\tBuatlah kode untuk menghitung rata-rata `nilai_kuis`\n",
    "\n",
    "\n",
    "\n",
    "## Soal 6\n",
    "Buatlah sebuah <b>kelas</b> bernama rekening yang mempunyai atribut berupa `saldo` dan `limit`. Saldo bersifat private, dan limit bersifat public. Kemudian buatlah method berikut:\n",
    "- debit : yang akan mengurangi jumlah saldo. Syarat dari debit adalah tidak boleh mengurangi lebih dari jumlah saldonya, serta tidak boleh mengambil lebih dari limit.\n",
    "- kredit: yang akan menambah jumlah saldo. Syarat dari kredit adalah tidak boleh mengisi lebih dari 4 kali limitnya\n",
    "- getSaldo : yang akan mengembalikan jumlah saldo saat ini\n",
    "\n",
    "Buatlah sebuah `instance` yang akan membuat saldo pertama kali adalah 500 dan limit 1000. Kemudian tunjukkan dalam kode peran method `kredit`, `debit`, dalam merubah saldo. Tampilkan saldo akhir di fungsi `getSaldo`\n",
    "\n"
   ]
  },
  {
   "cell_type": "code",
   "execution_count": null,
   "metadata": {},
   "outputs": [],
   "source": []
  }
 ],
 "metadata": {
  "kernelspec": {
   "display_name": "Python 3",
   "language": "python",
   "name": "python3"
  },
  "language_info": {
   "codemirror_mode": {
    "name": "ipython",
    "version": 3
   },
   "file_extension": ".py",
   "mimetype": "text/x-python",
   "name": "python",
   "nbconvert_exporter": "python",
   "pygments_lexer": "ipython3",
   "version": "3.6.7"
  }
 },
 "nbformat": 4,
 "nbformat_minor": 2
}
